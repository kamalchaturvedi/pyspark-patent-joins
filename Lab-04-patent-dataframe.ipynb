{
 "cells": [
  {
   "cell_type": "markdown",
   "metadata": {},
   "source": [
    "# CSCI 4253 / 5253 - Lab #4 - Patent Problem with Spark DataFrames\n",
    "<div>\n",
    " <h2> CSCI 4283 / 5253 \n",
    "  <IMG SRC=\"https://www.colorado.edu/cs/profiles/express/themes/cuspirit/logo.png\" WIDTH=50 ALIGN=\"right\"/> </h2>\n",
    "</div>"
   ]
  },
  {
   "cell_type": "markdown",
   "metadata": {},
   "source": [
    "This [Spark cheatsheet](https://s3.amazonaws.com/assets.datacamp.com/blog_assets/PySpark_SQL_Cheat_Sheet_Python.pdf) is useful as is [this reference on doing joins in Spark dataframe](http://www.learnbymarketing.com/1100/pyspark-joins-by-example/).\n",
    "\n",
    "The [DataBricks company has one of the better reference manuals for PySpark](https://docs.databricks.com/spark/latest/dataframes-datasets/index.html) -- they show you how to perform numerous common data operations such as joins, aggregation operations following `groupBy` and the like."
   ]
  },
  {
   "cell_type": "code",
   "execution_count": 1,
   "metadata": {},
   "outputs": [],
   "source": [
    "from pyspark import SparkContext, SparkConf\n",
    "from pyspark.sql import SparkSession"
   ]
  },
  {
   "cell_type": "markdown",
   "metadata": {},
   "source": [
    "The following aggregation functions may be useful -- [these can be used to aggregate results of `groupby` operations](https://docs.databricks.com/spark/latest/dataframes-datasets/introduction-to-dataframes-python.html#example-aggregations-using-agg-and-countdistinct). More documentation is at the [PySpark SQL Functions manual](https://spark.apache.org/docs/2.3.0/api/python/pyspark.sql.html#module-pyspark.sql.functions). Feel free to use other functions from that library."
   ]
  },
  {
   "cell_type": "code",
   "execution_count": 2,
   "metadata": {},
   "outputs": [],
   "source": [
    "from pyspark.sql.functions import col, count, countDistinct"
   ]
  },
  {
   "cell_type": "markdown",
   "metadata": {},
   "source": [
    "Create our session as described in the tutorials"
   ]
  },
  {
   "cell_type": "code",
   "execution_count": 3,
   "metadata": {},
   "outputs": [],
   "source": [
    "spark = SparkSession \\\n",
    "    .builder \\\n",
    "    .appName(\"Lab4-Dataframe\") \\\n",
    "    .master(\"local[*]\")\\\n",
    "    .getOrCreate()"
   ]
  },
  {
   "cell_type": "markdown",
   "metadata": {},
   "source": [
    "Read in the citations and patents data and check that the data makes sense. Note that unlike in the RDD solution, the data is automatically inferred to be Integer() types."
   ]
  },
  {
   "cell_type": "code",
   "execution_count": 4,
   "metadata": {},
   "outputs": [],
   "source": [
    "citations = spark.read.load('cite75_99.txt.gz',\n",
    "            format=\"csv\", sep=\",\", header=True,\n",
    "            compression=\"gzip\",\n",
    "            inferSchema=\"true\")"
   ]
  },
  {
   "cell_type": "code",
   "execution_count": 5,
   "metadata": {},
   "outputs": [
    {
     "name": "stdout",
     "output_type": "stream",
     "text": [
      "+-------+-------+\n",
      "| CITING|  CITED|\n",
      "+-------+-------+\n",
      "|3858241| 956203|\n",
      "|3858241|1324234|\n",
      "|3858241|3398406|\n",
      "|3858241|3557384|\n",
      "|3858241|3634889|\n",
      "+-------+-------+\n",
      "only showing top 5 rows\n",
      "\n"
     ]
    }
   ],
   "source": [
    "citations.show(5)"
   ]
  },
  {
   "cell_type": "code",
   "execution_count": 6,
   "metadata": {},
   "outputs": [],
   "source": [
    "patents = spark.read.load('apat63_99.txt.gz',\n",
    "            format=\"csv\", sep=\",\", header=True,\n",
    "            compression=\"gzip\",\n",
    "            inferSchema=\"true\")"
   ]
  },
  {
   "cell_type": "code",
   "execution_count": 7,
   "metadata": {},
   "outputs": [
    {
     "name": "stdout",
     "output_type": "stream",
     "text": [
      "+-------+-----+-----+-------+-------+-------+--------+-------+------+------+---+------+-----+--------+--------+-------+--------+--------+--------+--------+--------+--------+--------+\n",
      "| PATENT|GYEAR|GDATE|APPYEAR|COUNTRY|POSTATE|ASSIGNEE|ASSCODE|CLAIMS|NCLASS|CAT|SUBCAT|CMADE|CRECEIVE|RATIOCIT|GENERAL|ORIGINAL|FWDAPLAG|BCKGTLAG|SELFCTUB|SELFCTLB|SECDUPBD|SECDLWBD|\n",
      "+-------+-----+-----+-------+-------+-------+--------+-------+------+------+---+------+-----+--------+--------+-------+--------+--------+--------+--------+--------+--------+--------+\n",
      "|3070801| 1963| 1096|   null|     BE|   null|    null|      1|  null|   269|  6|    69| null|       1|    null|    0.0|    null|    null|    null|    null|    null|    null|    null|\n",
      "|3070802| 1963| 1096|   null|     US|     TX|    null|      1|  null|     2|  6|    63| null|       0|    null|   null|    null|    null|    null|    null|    null|    null|    null|\n",
      "|3070803| 1963| 1096|   null|     US|     IL|    null|      1|  null|     2|  6|    63| null|       9|    null| 0.3704|    null|    null|    null|    null|    null|    null|    null|\n",
      "|3070804| 1963| 1096|   null|     US|     OH|    null|      1|  null|     2|  6|    63| null|       3|    null| 0.6667|    null|    null|    null|    null|    null|    null|    null|\n",
      "|3070805| 1963| 1096|   null|     US|     CA|    null|      1|  null|     2|  6|    63| null|       1|    null|    0.0|    null|    null|    null|    null|    null|    null|    null|\n",
      "+-------+-----+-----+-------+-------+-------+--------+-------+------+------+---+------+-----+--------+--------+-------+--------+--------+--------+--------+--------+--------+--------+\n",
      "only showing top 5 rows\n",
      "\n"
     ]
    }
   ],
   "source": [
    "patents.show(5)"
   ]
  },
  {
   "cell_type": "code",
   "execution_count": 8,
   "metadata": {},
   "outputs": [],
   "source": [
    "union_input = citations.join(patents, citations[\"CITING\"] == patents[\"PATENT\"], how=\"left\")\n"
   ]
  },
  {
   "cell_type": "code",
   "execution_count": 9,
   "metadata": {},
   "outputs": [
    {
     "name": "stdout",
     "output_type": "stream",
     "text": [
      "+-------+-------+------------+\n",
      "|  CITED| CITING|CITING_STATE|\n",
      "+-------+-------+------------+\n",
      "|1331793|3858258|          CA|\n",
      "|1540798|3858258|          CA|\n",
      "| 924225|3858527|        null|\n",
      "|2444326|3858527|        null|\n",
      "|2705120|3858527|        null|\n",
      "|2967080|3858527|        null|\n",
      "|3602157|3858527|        null|\n",
      "|3638586|3858527|        null|\n",
      "|3699902|3858527|        null|\n",
      "| 957631|3858560|          IN|\n",
      "|3675252|3858597|          MT|\n",
      "|3815160|3858597|          MT|\n",
      "|2290722|3858770|          CA|\n",
      "|2777621|3858770|          CA|\n",
      "|2782969|3858770|          CA|\n",
      "|3040941|3858770|          CA|\n",
      "| 982044|3859029|          NY|\n",
      "|1020004|3859029|          NY|\n",
      "|1830227|3859029|          NY|\n",
      "|2752631|3859029|          NY|\n",
      "+-------+-------+------------+\n",
      "only showing top 20 rows\n",
      "\n"
     ]
    }
   ],
   "source": [
    "union_input = union_input.select(\"CITED\", \"CITING\", col(\"POSTATE\").alias(\"CITING_STATE\"))\n",
    "union_input.show()"
   ]
  },
  {
   "cell_type": "code",
   "execution_count": 10,
   "metadata": {},
   "outputs": [],
   "source": [
    "intermediate_output = union_input.join(patents, union_input[\"CITED\"] == patents[\"PATENT\"], how=\"left\")"
   ]
  },
  {
   "cell_type": "code",
   "execution_count": 11,
   "metadata": {},
   "outputs": [
    {
     "name": "stdout",
     "output_type": "stream",
     "text": [
      "+-------+------------+-----+-----------+\n",
      "| CITING|CITING_STATE|CITED|CITED_STATE|\n",
      "+-------+------------+-----+-----------+\n",
      "|4305315|          MN| 2366|       null|\n",
      "|4192521|        null| 2366|       null|\n",
      "|4253355|          MN| 2366|       null|\n",
      "|5580635|          WI| 5156|       null|\n",
      "|4976561|        null| 5518|       null|\n",
      "|4480374|          MN| 5803|       null|\n",
      "|5123817|        null| 6620|       null|\n",
      "|4115020|        null| 7240|       null|\n",
      "|4727698|          CA| 7253|       null|\n",
      "|4360982|          IA| 7340|       null|\n",
      "|4108250|          IL| 7340|       null|\n",
      "|5692807|          PA|10817|       null|\n",
      "|5581904|        null|11458|       null|\n",
      "|4282613|          MI|12940|       null|\n",
      "|4741426|          NY|13840|       null|\n",
      "|4705153|          NY|13840|       null|\n",
      "|4556218|          FL|14832|       null|\n",
      "|4896714|        null|15447|       null|\n",
      "|5065652|          OH|15790|       null|\n",
      "|5058476|          OH|15790|       null|\n",
      "+-------+------------+-----+-----------+\n",
      "only showing top 20 rows\n",
      "\n"
     ]
    }
   ],
   "source": [
    "intermediate_output = intermediate_output.select(\"CITING\", \"CITING_STATE\", \"CITED\", col(\"POSTATE\").alias(\"CITED_STATE\"))\n",
    "intermediate_output.show()"
   ]
  },
  {
   "cell_type": "code",
   "execution_count": 23,
   "metadata": {},
   "outputs": [],
   "source": [
    "intermediate_output = intermediate_output.filter(\"CITED_STATE is not null\")"
   ]
  },
  {
   "cell_type": "code",
   "execution_count": 24,
   "metadata": {},
   "outputs": [
    {
     "data": {
      "text/plain": [
       "DataFrame[CITING: int, CITING_STATE: string, CITED: int, CITED_STATE: string]"
      ]
     },
     "execution_count": 24,
     "metadata": {},
     "output_type": "execute_result"
    }
   ],
   "source": [
    "intermediate_output.filter(col(\"CITING_STATE\") == col(\"CITED_STATE\"))"
   ]
  },
  {
   "cell_type": "code",
   "execution_count": 25,
   "metadata": {},
   "outputs": [],
   "source": [
    "citing_with_count = intermediate_output.groupby(\"CITING\").count()"
   ]
  },
  {
   "cell_type": "code",
   "execution_count": 26,
   "metadata": {},
   "outputs": [
    {
     "name": "stdout",
     "output_type": "stream",
     "text": [
      "+-------+-----+\n",
      "| CITING|count|\n",
      "+-------+-----+\n",
      "|3858527|    3|\n",
      "|3858597|    2|\n",
      "|3859029|    2|\n",
      "|3859627|    5|\n",
      "|3860038|    3|\n",
      "|3860100|    3|\n",
      "|3860191|    2|\n",
      "|3860806|    1|\n",
      "|3860969|    1|\n",
      "|3861180|    2|\n",
      "|3861473|    2|\n",
      "|3861674|    4|\n",
      "|3862577|    1|\n",
      "|3862844|    4|\n",
      "|3862904|    5|\n",
      "|3863090|    3|\n",
      "|3863692|    2|\n",
      "|3863750|    1|\n",
      "|3863935|    2|\n",
      "|3863980|    2|\n",
      "+-------+-----+\n",
      "only showing top 20 rows\n",
      "\n"
     ]
    }
   ],
   "source": [
    "citing_with_count.show()"
   ]
  },
  {
   "cell_type": "code",
   "execution_count": 28,
   "metadata": {},
   "outputs": [],
   "source": [
    "final_output = patents.join(citing_with_count, patents[\"PATENT\"] == citing_with_count[\"CITING\"])"
   ]
  },
  {
   "cell_type": "code",
   "execution_count": 29,
   "metadata": {},
   "outputs": [],
   "source": [
    "final_output = final_output.drop(\"CITING\")"
   ]
  },
  {
   "cell_type": "code",
   "execution_count": 30,
   "metadata": {},
   "outputs": [
    {
     "name": "stdout",
     "output_type": "stream",
     "text": [
      "+-------+-----+-----+-------+-------+-------+--------+-------+------+------+---+------+-----+--------+--------+-------+--------+--------+--------+--------+--------+--------+--------+-----+\n",
      "| PATENT|GYEAR|GDATE|APPYEAR|COUNTRY|POSTATE|ASSIGNEE|ASSCODE|CLAIMS|NCLASS|CAT|SUBCAT|CMADE|CRECEIVE|RATIOCIT|GENERAL|ORIGINAL|FWDAPLAG|BCKGTLAG|SELFCTUB|SELFCTLB|SECDUPBD|SECDLWBD|count|\n",
      "+-------+-----+-----+-------+-------+-------+--------+-------+------+------+---+------+-----+--------+--------+-------+--------+--------+--------+--------+--------+--------+--------+-----+\n",
      "|5887243| 1999|14326|   1995|     US|     NY|  752434|      2|  null|   455|  2|    21|  745|       0|  0.9785|   null|  0.8195|    null| 16.9289|     0.0|     0.0|    null|    null|  524|\n",
      "|5795784| 1998|14109|   1996|     US|     TX|     735|      2|     3|   436|  1|    19|  770|       0|   0.987|   null|  0.8489|    null| 13.0312|  0.0274|  0.0234|    null|    null|  495|\n",
      "|5856194| 1999|14249|   1996|     US|     TX|     735|      2|  null|   436|  1|    19|  737|       1|  0.9878|    0.0|  0.8479|     1.0| 14.3161|  0.0255|  0.0217|     1.0|     1.0|  472|\n",
      "|5994152| 1999|14578|   1997|     US|     CA|  716850|      2|  null|   438|  4|    46|  430|       0|  0.9884|   null|   0.887|    null| 13.2953|  0.0051|  0.0047|    null|    null|  343|\n",
      "|5999972| 1999|14585|   1996|     US|     CA|  551495|      2|  null|   709|  2|    22|  352|       0|     1.0|   null|  0.8714|    null|  4.0398|  0.0117|  0.0114|    null|    null|  337|\n",
      "|5817744| 1998|14158|   1997|     US|     ID|   70060|      2|    13|   528|  1|    15|  469|       0|     1.0|   null|  0.8207|    null| 15.0043|  0.1106|  0.1066|    null|    null|  332|\n",
      "|5987245| 1999|14564|   1996|     US|     CA|  551495|      2|  null|   709|  2|    22|  341|       0|     1.0|   null|  0.8737|    null|  4.0587|  0.0121|  0.0117|    null|    null|  326|\n",
      "|5848246| 1998|14221|   1996|     US|     CA|  551495|      2|    24|   709|  2|    22|  337|       6|     1.0| 0.6667|  0.8726|     1.0|  3.0742|  0.0123|  0.0119|     0.0|     0.0|  324|\n",
      "|5739256| 1998|13983|   1995|     US|     CA|   70060|      2|    15|   528|  1|    15|  453|       0|     1.0|   null|  0.8232|    null| 15.1104|  0.1124|  0.1082|    null|    null|  322|\n",
      "|5618907| 1997|13612|   1995|     US|     CA|   70060|      2|     6|   528|  1|    15|  453|       0|     1.0|   null|  0.8248|    null| 14.1369|  0.1103|   0.106|    null|    null|  321|\n",
      "+-------+-----+-----+-------+-------+-------+--------+-------+------+------+---+------+-----+--------+--------+-------+--------+--------+--------+--------+--------+--------+--------+-----+\n",
      "only showing top 10 rows\n",
      "\n"
     ]
    }
   ],
   "source": [
    "final_output.orderBy(col(\"count\"), ascending=False).show(10)"
   ]
  },
  {
   "cell_type": "code",
   "execution_count": null,
   "metadata": {},
   "outputs": [],
   "source": []
  }
 ],
 "metadata": {
  "kernelspec": {
   "display_name": "Python 3",
   "language": "python",
   "name": "python3"
  },
  "language_info": {
   "codemirror_mode": {
    "name": "ipython",
    "version": 3
   },
   "file_extension": ".py",
   "mimetype": "text/x-python",
   "name": "python",
   "nbconvert_exporter": "python",
   "pygments_lexer": "ipython3",
   "version": "3.6.7"
  }
 },
 "nbformat": 4,
 "nbformat_minor": 2
}
