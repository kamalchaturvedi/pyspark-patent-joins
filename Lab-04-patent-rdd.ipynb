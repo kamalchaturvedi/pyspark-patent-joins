{
 "cells": [
  {
   "cell_type": "markdown",
   "metadata": {},
   "source": [
    "# CSCI 4253 / 5253 - Lab #4 - Patent Problem with Spark RDD\n",
    "<div>\n",
    " <h2> CSCI 4283 / 5253 \n",
    "  <IMG SRC=\"https://www.colorado.edu/cs/profiles/express/themes/cuspirit/logo.png\" WIDTH=50 ALIGN=\"right\"/> </h2>\n",
    "</div>"
   ]
  },
  {
   "cell_type": "markdown",
   "metadata": {},
   "source": [
    "This [Spark cheatsheet](https://s3.amazonaws.com/assets.datacamp.com/blog_assets/PySpark_SQL_Cheat_Sheet_Python.pdf) is useful"
   ]
  },
  {
   "cell_type": "code",
   "execution_count": 94,
   "metadata": {},
   "outputs": [],
   "source": [
    "from pyspark import SparkContext, SparkConf\n",
    "import numpy as np\n",
    "import operator"
   ]
  },
  {
   "cell_type": "code",
   "execution_count": 95,
   "metadata": {},
   "outputs": [],
   "source": [
    "conf=SparkConf().setAppName(\"Lab4-rddd\").setMaster(\"local[*]\")\n",
    "sc = SparkContext(conf=conf)"
   ]
  },
  {
   "cell_type": "markdown",
   "metadata": {},
   "source": [
    "Using PySpark and RDD's on the https://coding.csel.io machines is very slow -- most of the code is executed in Python and this is much less efficient than the java-based code using the PySpark dataframes. Be patient and trying using `.cache()` to cache the output of joins. You may want to start with a reduced set of data before running the full task.\n",
    "\n",
    "To that end, we've included code to just extract the last 200,000 lines of each file below using the Python \"slice\" notation. Using that subset of the data your \"new patent\" table should look like:\n",
    "\n",
    "![Top partial 10 RDD self-state citations](top-subsample-rdd.png)\n",
    "\n",
    "When you're ready to run the whole thing, just include all the data and run it again (...and wait...)."
   ]
  },
  {
   "cell_type": "markdown",
   "metadata": {},
   "source": [
    "These two RDD's are called \"rawCitations\" and \"rawPatents\" because you probably want to process them futher (e.g. convert them to integer types, etc). If you haven't used Python \"byte\" types before, google it. You can convert a byte variable `x` into e.g. a UTF8 string using `x.decode('uft-8')`."
   ]
  },
  {
   "cell_type": "code",
   "execution_count": 96,
   "metadata": {},
   "outputs": [],
   "source": [
    "import gzip\n",
    "with gzip.open('cite75_99.txt.gz', 'r') as f:\n",
    "    rddCitations = sc.parallelize( f.readlines()[-800000:] )"
   ]
  },
  {
   "cell_type": "code",
   "execution_count": 119,
   "metadata": {},
   "outputs": [],
   "source": [
    "with gzip.open('apat63_99.txt.gz', 'r') as f:\n",
    "    rddPatents = sc.parallelize( f.readlines()[-800000:] )"
   ]
  },
  {
   "cell_type": "code",
   "execution_count": 98,
   "metadata": {},
   "outputs": [],
   "source": [
    "def getData(line):\n",
    "      line = line.split(b',')\n",
    "      return (line[0],line[5])\n",
    "patentOut = rddPatents.map(getData)"
   ]
  },
  {
   "cell_type": "code",
   "execution_count": 99,
   "metadata": {},
   "outputs": [],
   "source": [
    "def getCitationData(line):\n",
    "      line = line.split(b',')\n",
    "      return (line[0],line[1].split(b'\\n')[0])\n",
    "citationsOut = rddCitations.map(getCitationData)"
   ]
  },
  {
   "cell_type": "code",
   "execution_count": 100,
   "metadata": {},
   "outputs": [
    {
     "data": {
      "text/plain": [
       "[(b'5935430', b'5453769'),\n",
       " (b'5935430', b'5500071'),\n",
       " (b'5935430', b'5567868'),\n",
       " (b'5935430', b'5571410'),\n",
       " (b'5935430', b'5595650')]"
      ]
     },
     "execution_count": 100,
     "metadata": {},
     "output_type": "execute_result"
    }
   ],
   "source": [
    "patentOut.take(5)\n",
    "citationsOut.take(5)"
   ]
  },
  {
   "cell_type": "code",
   "execution_count": 101,
   "metadata": {},
   "outputs": [],
   "source": [
    "input_join = citationsOut.join(patentOut)"
   ]
  },
  {
   "cell_type": "code",
   "execution_count": 102,
   "metadata": {},
   "outputs": [
    {
     "data": {
      "text/plain": [
       "[(b'5935437', (b'4001117', b'\"TX\"')),\n",
       " (b'5935437', (b'5104375', b'\"TX\"')),\n",
       " (b'5935437', (b'5219328', b'\"TX\"')),\n",
       " (b'5935437', (b'5284244', b'\"TX\"')),\n",
       " (b'5935444', (b'2531427', b'\"LA\"'))]"
      ]
     },
     "execution_count": 102,
     "metadata": {},
     "output_type": "execute_result"
    }
   ],
   "source": [
    "input_join.take(5)"
   ]
  },
  {
   "cell_type": "code",
   "execution_count": 103,
   "metadata": {},
   "outputs": [],
   "source": [
    "def getCitationData(x):\n",
    "      citing, (cited, citing_state) = x\n",
    "      return (cited, (citing, citing_state))\n",
    "swapped_out = input_join.map(getCitationData)"
   ]
  },
  {
   "cell_type": "code",
   "execution_count": 104,
   "metadata": {},
   "outputs": [
    {
     "data": {
      "text/plain": [
       "[(b'4001117', (b'5935437', b'\"TX\"')),\n",
       " (b'5104375', (b'5935437', b'\"TX\"')),\n",
       " (b'5219328', (b'5935437', b'\"TX\"')),\n",
       " (b'5284244', (b'5935437', b'\"TX\"')),\n",
       " (b'2531427', (b'5935444', b'\"LA\"'))]"
      ]
     },
     "execution_count": 104,
     "metadata": {},
     "output_type": "execute_result"
    }
   ],
   "source": [
    "swapped_out.take(5)"
   ]
  },
  {
   "cell_type": "code",
   "execution_count": 105,
   "metadata": {},
   "outputs": [],
   "source": [
    "intermediate_output = swapped_out.join(patentOut)"
   ]
  },
  {
   "cell_type": "code",
   "execution_count": 106,
   "metadata": {},
   "outputs": [],
   "source": [
    "def getIntermediateOutput(x):\n",
    "      cited, ((citing, citing_state), cited_state) = x\n",
    "      return (citing, (citing_state, cited, cited_state))\n",
    "intermediate_output = intermediate_output.map(getIntermediateOutput)"
   ]
  },
  {
   "cell_type": "code",
   "execution_count": 107,
   "metadata": {},
   "outputs": [
    {
     "data": {
      "text/plain": [
       "[(b'5935536', (b'\"FL\"', b'5583166', b'\"\"')),\n",
       " (b'5935560', (b'\"IL\"', b'5270036', b'\"MI\"')),\n",
       " (b'5935599', (b'\"IL\"', b'5478575', b'\"\"')),\n",
       " (b'5935600', (b'\"VA\"', b'5622719', b'\"VA\"')),\n",
       " (b'5965162', (b'\"VA\"', b'5622719', b'\"VA\"'))]"
      ]
     },
     "execution_count": 107,
     "metadata": {},
     "output_type": "execute_result"
    }
   ],
   "source": [
    "intermediate_output.take(5)"
   ]
  },
  {
   "cell_type": "code",
   "execution_count": 108,
   "metadata": {},
   "outputs": [],
   "source": [
    "def filterPerStateMatch(x):\n",
    "      citing, (citing_state, cited, cited_state) = x\n",
    "      return True if (citing_state != b'\"\"' and (citing_state == cited_state)) else False\n",
    "count_per_citing = intermediate_output.filter(filterPerStateMatch)"
   ]
  },
  {
   "cell_type": "code",
   "execution_count": 109,
   "metadata": {},
   "outputs": [],
   "source": [
    "def mapKeyToCounter(x):\n",
    "      citing, (citing_state, cited, cited_state) = x\n",
    "      return (citing,1)\n",
    "count_per_citing = count_per_citing.map(mapKeyToCounter).reduceByKey(lambda accumulator, val: accumulator + val)"
   ]
  },
  {
   "cell_type": "code",
   "execution_count": 122,
   "metadata": {},
   "outputs": [
    {
     "data": {
      "text/plain": [
       "[(b'5959466', 94),\n",
       " (b'6008204', 80),\n",
       " (b'5952345', 78),\n",
       " (b'5999972', 77),\n",
       " (b'5998655', 76),\n",
       " (b'5958954', 76),\n",
       " (b'5987245', 76),\n",
       " (b'5980517', 73),\n",
       " (b'5951547', 73),\n",
       " (b'5998471', 65)]"
      ]
     },
     "execution_count": 122,
     "metadata": {},
     "output_type": "execute_result"
    }
   ],
   "source": [
    "count_per_citing = count_per_citing.sortBy(lambda x: x[1], ascending=False)\n",
    "count_per_citing.take(10)"
   ]
  },
  {
   "cell_type": "code",
   "execution_count": 120,
   "metadata": {},
   "outputs": [],
   "source": [
    "def getFormattedPatentData(line):\n",
    "      line_split = line.split(b',')\n",
    "      return (line_split[0],line)\n",
    "rddPatents = rddPatents.map(getFormattedPatentData)"
   ]
  },
  {
   "cell_type": "code",
   "execution_count": 123,
   "metadata": {},
   "outputs": [],
   "source": [
    "rddPatents = rddPatents.join(count_per_citing)"
   ]
  },
  {
   "cell_type": "code",
   "execution_count": 125,
   "metadata": {},
   "outputs": [
    {
     "data": {
      "text/plain": [
       "[(b'5959466',\n",
       "  (b'5959466,1999,14515,1997,\"US\",\"CA\",5310,2,,326,4,46,159,0,1,,0.6186,,4.8868,0.0455,0.044,,\\n',\n",
       "   94)),\n",
       " (b'6008204',\n",
       "  (b'6008204,1999,14606,1998,\"US\",\"CA\",749584,2,,514,3,31,121,0,1,,0.7415,,5,0.0085,0.0083,,\\n',\n",
       "   80)),\n",
       " (b'5952345',\n",
       "  (b'5952345,1999,14501,1997,\"US\",\"CA\",749584,2,,514,3,31,118,0,1,,0.7442,,5.1102,0,0,,\\n',\n",
       "   78)),\n",
       " (b'5999972',\n",
       "  (b'5999972,1999,14585,1996,\"US\",\"CA\",551495,2,,709,2,22,352,0,1,,0.8714,,4.0398,0.0117,0.0114,,\\n',\n",
       "   77)),\n",
       " (b'5998655',\n",
       "  (b'5998655,1999,14585,1998,\"US\",\"CA\",,1,,560,1,14,114,0,1,,0.7387,,5.1667,,,,\\n',\n",
       "   76)),\n",
       " (b'5958954',\n",
       "  (b'5958954,1999,14515,1997,\"US\",\"CA\",749584,2,,514,3,31,116,0,1,,0.7397,,5.181,0,0,,\\n',\n",
       "   76)),\n",
       " (b'5987245',\n",
       "  (b'5987245,1999,14564,1996,\"US\",\"CA\",551495,2,,709,2,22,341,0,1,,0.8737,,4.0587,0.0121,0.0117,,\\n',\n",
       "   76)),\n",
       " (b'5980517',\n",
       "  (b'5980517,1999,14557,1998,\"US\",\"CA\",733846,2,,606,3,32,241,0,1,,0.7394,,8.3776,0,0,,\\n',\n",
       "   73)),\n",
       " (b'5951547',\n",
       "  (b'5951547,1999,14501,1997,\"US\",\"CA\",733846,2,,606,3,32,242,0,1,,0.7382,,8.3471,0,0,,\\n',\n",
       "   73)),\n",
       " (b'5998471',\n",
       "  (b'5998471,1999,14585,1998,\"US\",\"CA\",749584,2,,514,3,31,103,0,1,,0.7151,,5.5825,0,0,,\\n',\n",
       "   65))]"
      ]
     },
     "execution_count": 125,
     "metadata": {},
     "output_type": "execute_result"
    }
   ],
   "source": [
    "def findCountKey(x):\n",
    "      (key, (rest, count)) = x\n",
    "      return count\n",
    "rddPatents.sortBy(lambda x: findCountKey(x), ascending=False).take(10)"
   ]
  },
  {
   "cell_type": "code",
   "execution_count": null,
   "metadata": {},
   "outputs": [],
   "source": [
    "#sc.stop()"
   ]
  }
 ],
 "metadata": {
  "kernelspec": {
   "display_name": "Python 3",
   "language": "python",
   "name": "python3"
  },
  "language_info": {
   "codemirror_mode": {
    "name": "ipython",
    "version": 3
   },
   "file_extension": ".py",
   "mimetype": "text/x-python",
   "name": "python",
   "nbconvert_exporter": "python",
   "pygments_lexer": "ipython3",
   "version": "3.6.7"
  }
 },
 "nbformat": 4,
 "nbformat_minor": 2
}
